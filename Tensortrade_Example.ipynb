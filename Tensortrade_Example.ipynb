{
  "nbformat": 4,
  "nbformat_minor": 0,
  "metadata": {
    "colab": {
      "name": "Tensortrade_Example.ipynb",
      "provenance": [],
      "collapsed_sections": [
        "KKynh_MF2tfc",
        "XRM6NRFB_Qse",
        "M292bbMe_bTp",
        "LMQIsUtvAUGx",
        "WrzxPozXFhkV",
        "OpDSsXThF_pY",
        "O5J7phwSGSUT",
        "D0OlwzprHeGx",
        "_CQey4YmwAdt",
        "JJOZQY8VIT__",
        "dQVc2mfLBPE1"
      ],
      "include_colab_link": true
    },
    "kernelspec": {
      "name": "python3",
      "display_name": "Python 3"
    },
    "accelerator": "TPU"
  },
  "cells": [
    {
      "cell_type": "markdown",
      "metadata": {
        "id": "view-in-github",
        "colab_type": "text"
      },
      "source": [
        "<a href=\"https://colab.research.google.com/github/xiaoyongzhu/hackathon/blob/master/Tensortrade_Example.ipynb\" target=\"_parent\"><img src=\"https://colab.research.google.com/assets/colab-badge.svg\" alt=\"Open In Colab\"/></a>"
      ]
    },
    {
      "cell_type": "markdown",
      "metadata": {
        "id": "KKynh_MF2tfc",
        "colab_type": "text"
      },
      "source": [
        "#Install Tensortrade and set Tensorflow to v2\n",
        "\n",
        "\n"
      ]
    },
    {
      "cell_type": "code",
      "metadata": {
        "id": "JGRDVoyh-BgT",
        "colab_type": "code",
        "colab": {}
      },
      "source": [
        "!pip install tensorflow-probability==0.7.0 git+https://github.com/tensortrade-org/tensortrade.git\n",
        "\n",
        "# code via https://github.com/tensortrade-org/tensortrade/blob/master/examples/train_and_evaluate.ipynb\n",
        "from __future__ import absolute_import, division, print_function, unicode_literals\n",
        "import tensorflow as tf\n",
        "\n",
        "import ssl\n",
        "import pandas as pd\n",
        "# Only used if pandas gives a SSLError when using fetch()\n",
        "ssl._create_default_https_context = ssl._create_unverified_context "
      ],
      "execution_count": 0,
      "outputs": []
    },
    {
      "cell_type": "markdown",
      "metadata": {
        "id": "PX6Wrn1IwbQZ",
        "colab_type": "text"
      },
      "source": [
        "# Load Custom Data"
      ]
    },
    {
      "cell_type": "markdown",
      "metadata": {
        "id": "XRM6NRFB_Qse",
        "colab_type": "text"
      },
      "source": [
        "## Mount Google Drive"
      ]
    },
    {
      "cell_type": "code",
      "metadata": {
        "id": "i6AD2ER_ALZl",
        "colab_type": "code",
        "colab": {}
      },
      "source": [
        "from google.colab import drive\n",
        "drive.mount('/content/drive/')\n",
        "\n",
        "%cd '/content/drive/My Drive/Colab_Notebooks/Crypto_Data/'\n",
        "#!mkdir -p /content/drive/My\\ Drive/Colab_Notebooks/\n",
        "#!mkdir -p /content/drive/My\\ Drive/Colab_Notebooks/Crypto_Data/"
      ],
      "execution_count": 0,
      "outputs": []
    },
    {
      "cell_type": "markdown",
      "metadata": {
        "id": "M292bbMe_bTp",
        "colab_type": "text"
      },
      "source": [
        "## Load Custom CSV Data"
      ]
    },
    {
      "cell_type": "code",
      "metadata": {
        "id": "iUeaAJ8A_dlf",
        "colab_type": "code",
        "colab": {}
      },
      "source": [
        "exchange = 'binance'\n",
        "symbol = 'BTC_USDT' #only exceptions are futures: eg. XRPH20 has no underscore\n",
        "tf = '1d'\n",
        "path_to_csv_file = f'csv/{exchange}/{symbol}_{tf}.csv'\n",
        "\n",
        "import os\n",
        "if os.path.exists(path_to_csv_file):\n",
        "    # Use Pandas to read the .csv file\n",
        "    df = pd.read_csv(path_to_csv_file)\n",
        "    # Format the dataframe columns and column names for TensorTrade\n",
        "    df.drop(columns=['open_timestamp_utc','close_timestamp_utc'], inplace=True)\n",
        "    df = df.rename({\"timestamp\": \"Date\"}, axis='columns')\n",
        "    \n",
        "    from datetime import datetime\n",
        "    df['Date'] = df['Date'].apply(lambda x: datetime.utcfromtimestamp(x))\n",
        "    df['Date'] = df['Date'].dt.strftime('%Y-%m-%d %I:%M %p')\n",
        "    df.sort_values(by='Date', ascending=True, inplace=True)\n",
        "    df = df.set_index(\"Date\")\n",
        "\n",
        "    # OHCLV for plotly chart\n",
        "    # ohclv_df = df.copy()\n",
        "    # ohclv_df = ohclv_df.rename({\"Date\": \"datetime\"}, axis='columns')\n",
        "    # ohclv_df = ohclv_df.set_index(\"datetime\")\n",
        "\n",
        "    #df.reset_index(drop=True, inplace=True)\n",
        "    \n",
        "    base, quote = symbol.split('_')\n",
        "    df.columns = [base + \":\" + name.lower() for name in df.columns]\n",
        "    print(df.head())\n",
        "    #print(ohclv_df.head())\n",
        "\n",
        "    coinbase_data = df.copy()"
      ],
      "execution_count": 0,
      "outputs": []
    },
    {
      "cell_type": "markdown",
      "metadata": {
        "id": "LMQIsUtvAUGx",
        "colab_type": "text"
      },
      "source": [
        "#Setup OHLCV Data Fetcher"
      ]
    },
    {
      "cell_type": "code",
      "metadata": {
        "id": "bJffc7XRAcyk",
        "colab_type": "code",
        "colab": {}
      },
      "source": [
        "# Fetch Crypto data\n",
        "def fetch(exchange_name, symbol, timeframe):  \n",
        "    url = \"https://www.cryptodatadownload.com/cdd/\"\n",
        "    filename = \"{}_{}USD_{}.csv\".format(exchange_name, symbol, timeframe)\n",
        "    volume_column = \"Volume {}\".format(symbol)\n",
        "    new_volume_column = \"Volume_{}\".format(symbol)\n",
        "    \n",
        "    df = pd.read_csv(url + filename, skiprows=1)\n",
        "    df = df[::-1]\n",
        "    df = df.drop([\"Symbol\"], axis=1)\n",
        "    df = df.rename({\"Volume USD\": \"volume\", volume_column: new_volume_column}, axis=1)\n",
        "    df = df.set_index(\"Date\")\n",
        "    df.columns = [symbol + \":\" + name.lower() for name in df.columns]\n",
        "\n",
        "    return df"
      ],
      "execution_count": 0,
      "outputs": []
    },
    {
      "cell_type": "markdown",
      "metadata": {
        "id": "WrzxPozXFhkV",
        "colab_type": "text"
      },
      "source": [
        "#Fetch Historical Data"
      ]
    },
    {
      "cell_type": "code",
      "metadata": {
        "id": "SyI_rBTdAuuJ",
        "colab_type": "code",
        "colab": {}
      },
      "source": [
        "coinbase_data = fetch(\"Coinbase\", \"BTC\", \"1h\")\n",
        "\n",
        "# horizontally concatenate 2 dataframes\n",
        "# coinbase_data = pd.concat([\n",
        "#                     fetch(\"Coinbase\", \"BTC\", \"1h\"),\n",
        "#                     fetch(\"Coinbase\", \"ETH\", \"1h\")\n",
        "#                 ], axis=1)"
      ],
      "execution_count": 0,
      "outputs": []
    },
    {
      "cell_type": "code",
      "metadata": {
        "id": "l4HWnXRaFp1Z",
        "colab_type": "code",
        "colab": {}
      },
      "source": [
        "coinbase_data.head()"
      ],
      "execution_count": 0,
      "outputs": []
    },
    {
      "cell_type": "markdown",
      "metadata": {
        "id": "cUgYHcjkAr0G",
        "colab_type": "text"
      },
      "source": [
        "#Setup Trading Environment"
      ]
    },
    {
      "cell_type": "code",
      "metadata": {
        "id": "Y4iDSP4sAfbp",
        "colab_type": "code",
        "colab": {}
      },
      "source": [
        "from tensortrade.exchanges import Exchange\n",
        "from tensortrade.instruments import USD, BTC, ETH\n",
        "from tensortrade.wallets import Wallet, Portfolio\n",
        "\n",
        "from tensortrade.data import Stream, DataFeed, Module\n",
        "from tensortrade.environments import TradingEnvironment\n",
        "from tensortrade.exchanges.services.execution.simulated import execute_order"
      ],
      "execution_count": 0,
      "outputs": []
    },
    {
      "cell_type": "markdown",
      "metadata": {
        "id": "OpDSsXThF_pY",
        "colab_type": "text"
      },
      "source": [
        "#Define Exchanges\n",
        "An exchange needs a name, an execution service, and streams of price data in order to function properly.\n",
        "\n",
        "The setups supported right now are the simulated execution service using simulated or stochastic data. More execution services will be made available in the future, as well as price streams so that live data and execution can be supported."
      ]
    },
    {
      "cell_type": "code",
      "metadata": {
        "id": "n52SES47A1hf",
        "colab_type": "code",
        "colab": {}
      },
      "source": [
        "coinbase = Exchange(\"coinbase\", service=execute_order)(\n",
        "             Stream(\"USD-BTC\", list(coinbase_data['BTC:close']))#,\n",
        "             #Stream(\"USD-ETH\", list(coinbase_data['ETH:close']))\n",
        "           )"
      ],
      "execution_count": 0,
      "outputs": []
    },
    {
      "cell_type": "markdown",
      "metadata": {
        "id": "O5J7phwSGSUT",
        "colab_type": "text"
      },
      "source": [
        "Now that the exchanges have been defined we can define our features that we would like to include, excluding the prices we have provided for the exchanges.\n",
        "\n",
        "#Define External Data Feed\n",
        "Here we will define the external feed to use whatever data you would like. From financial indicators to datasets that have nothing to do with instrument prices, they will all have to be defined and incorporated into the external data feed provided to the environment. There is also an internal data feed that is used to collect data on all the wallets and the net worth of the portfolio. You can choose to include this or not by using the use_internal parameter of the trading environment."
      ]
    },
    {
      "cell_type": "code",
      "metadata": {
        "id": "bT45vJy3BILU",
        "colab_type": "code",
        "colab": {}
      },
      "source": [
        "coinbase_btc = coinbase_data.loc[:, [name.startswith(\"BTC\") for name in coinbase_data.columns]]\n",
        "#coinbase_eth = coinbase_data.loc[:, [name.startswith(\"ETH\") for name in coinbase_data.columns]]"
      ],
      "execution_count": 0,
      "outputs": []
    },
    {
      "cell_type": "markdown",
      "metadata": {
        "id": "D0OlwzprHeGx",
        "colab_type": "text"
      },
      "source": [
        "# Add TA features"
      ]
    },
    {
      "cell_type": "code",
      "metadata": {
        "id": "RkC8ezhlHjL7",
        "colab_type": "code",
        "colab": {}
      },
      "source": [
        "!pip install ta\n",
        "import ta\n",
        "\n",
        "ta.add_all_ta_features(\n",
        "    coinbase_btc,\n",
        "    colprefix=\"BTC:\",\n",
        "    **{k: \"BTC:\" + k for k in ['open', 'high', 'low', 'close', 'volume']}\n",
        ")"
      ],
      "execution_count": 0,
      "outputs": []
    },
    {
      "cell_type": "markdown",
      "metadata": {
        "id": "_CQey4YmwAdt",
        "colab_type": "text"
      },
      "source": [
        "# Create a 'DataFeed' for the Gym TradingEnvironment to be able to observe"
      ]
    },
    {
      "cell_type": "code",
      "metadata": {
        "id": "BmjktCbLH9Uh",
        "colab_type": "code",
        "colab": {}
      },
      "source": [
        "with Module(\"coinbase\") as coinbase_ns:\n",
        "    nodes = [Stream(name, list(coinbase_data[name])) for name in coinbase_data.columns]\n",
        "    #nodes += [Stream(name, list(coinbase_eth[name])) for name in coinbase_eth.columns]"
      ],
      "execution_count": 0,
      "outputs": []
    },
    {
      "cell_type": "code",
      "metadata": {
        "id": "ycxxhGVAIA94",
        "colab_type": "code",
        "colab": {}
      },
      "source": [
        "feed = DataFeed([coinbase_ns])\n",
        "feed.next()"
      ],
      "execution_count": 0,
      "outputs": []
    },
    {
      "cell_type": "markdown",
      "metadata": {
        "id": "JJOZQY8VIT__",
        "colab_type": "text"
      },
      "source": [
        "#Portfolio\n",
        "Make the portfolio using the any combinations of exchanges and intruments that the exchange supports"
      ]
    },
    {
      "cell_type": "code",
      "metadata": {
        "id": "XJM15LdNBLh8",
        "colab_type": "code",
        "colab": {}
      },
      "source": [
        "portfolio = Portfolio(USD, [\n",
        "    Wallet(coinbase, 100000 * USD),\n",
        "    Wallet(coinbase, 0 * BTC)#,\n",
        "    #Wallet(coinbase, 5 * ETH),\n",
        "])"
      ],
      "execution_count": 0,
      "outputs": []
    },
    {
      "cell_type": "code",
      "metadata": {
        "id": "7fflf6QmBMff",
        "colab_type": "code",
        "colab": {}
      },
      "source": [
        "env = TradingEnvironment(\n",
        "    feed=feed,\n",
        "    portfolio=portfolio,\n",
        "    action_scheme='managed-risk',\n",
        "    reward_scheme='risk-adjusted',\n",
        "    window_size=20#,\n",
        "    # renderers='screenlog'#,\n",
        "    # price_history=ohclv_df\n",
        ")"
      ],
      "execution_count": 0,
      "outputs": []
    },
    {
      "cell_type": "markdown",
      "metadata": {
        "id": "dQVc2mfLBPE1",
        "colab_type": "text"
      },
      "source": [
        "#Example Data Feed Observation"
      ]
    },
    {
      "cell_type": "code",
      "metadata": {
        "id": "3d7YMLUaBNcT",
        "colab_type": "code",
        "colab": {}
      },
      "source": [
        "env.feed.next()"
      ],
      "execution_count": 0,
      "outputs": []
    },
    {
      "cell_type": "markdown",
      "metadata": {
        "id": "oDO4vuONBUwG",
        "colab_type": "text"
      },
      "source": [
        "#Setup and Train DQN Agent"
      ]
    },
    {
      "cell_type": "code",
      "metadata": {
        "id": "GOgaSUJgBS9L",
        "colab_type": "code",
        "colab": {}
      },
      "source": [
        "from tensortrade.agents import DQNAgent\n",
        "\n",
        "agent = DQNAgent(env)\n",
        "\n",
        "agent.train(n_steps=50, save_path=\"agents/\", n_episodes = 5)"
      ],
      "execution_count": 0,
      "outputs": []
    },
    {
      "cell_type": "markdown",
      "metadata": {
        "id": "qFIlpaLzBYoT",
        "colab_type": "text"
      },
      "source": [
        "#Plot Performance"
      ]
    },
    {
      "cell_type": "code",
      "metadata": {
        "id": "_iIeG0KtBavM",
        "colab_type": "code",
        "colab": {}
      },
      "source": [
        "portfolio.performance.plot()"
      ],
      "execution_count": 0,
      "outputs": []
    },
    {
      "cell_type": "code",
      "metadata": {
        "id": "dKXOFSgm31H3",
        "colab_type": "code",
        "colab": {}
      },
      "source": [
        "portfolio.performance.net_worth.plot()"
      ],
      "execution_count": 0,
      "outputs": []
    }
  ]
}